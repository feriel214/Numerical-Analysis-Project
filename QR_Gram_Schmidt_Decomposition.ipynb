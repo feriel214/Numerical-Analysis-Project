{
  "cells": [
    {
      "cell_type": "code",
      "source": [
        "pip install big-O"
      ],
      "metadata": {
        "colab": {
          "base_uri": "https://localhost:8080/"
        },
        "id": "UBl7n37JbnCI",
        "outputId": "d2237080-9d9e-4166-998f-6de096f82d48"
      },
      "execution_count": 179,
      "outputs": [
        {
          "output_type": "stream",
          "name": "stdout",
          "text": [
            "Requirement already satisfied: big-O in /usr/local/lib/python3.7/dist-packages (0.10.2)\n",
            "Requirement already satisfied: numpy in /usr/local/lib/python3.7/dist-packages (from big-O) (1.21.5)\n"
          ]
        }
      ]
    },
    {
      "cell_type": "code",
      "execution_count": 180,
      "metadata": {
        "colab": {
          "base_uri": "https://localhost:8080/"
        },
        "id": "IaD6fIMwQ6sU",
        "outputId": "ce8a26ba-dcc3-4a60-bf47-b7387b549770"
      },
      "outputs": [
        {
          "output_type": "stream",
          "name": "stdout",
          "text": [
            "Requirement already satisfied: pyfiglet in /usr/local/lib/python3.7/dist-packages (0.8.post1)\n"
          ]
        }
      ],
      "source": [
        "!pip install pyfiglet\n"
      ]
    },
    {
      "cell_type": "code",
      "execution_count": 181,
      "metadata": {
        "colab": {
          "base_uri": "https://localhost:8080/"
        },
        "id": "X-ueuHP3Tv-N",
        "outputId": "30e1b309-3bd6-4c65-f8bb-645c51d3931c"
      },
      "outputs": [
        {
          "output_type": "stream",
          "name": "stdout",
          "text": [
            "Requirement already satisfied: termcolor in /usr/local/lib/python3.7/dist-packages (1.1.0)\n"
          ]
        }
      ],
      "source": [
        "!pip install termcolor"
      ]
    },
    {
      "cell_type": "code",
      "execution_count": 182,
      "metadata": {
        "id": "V-goEFvDiefe"
      },
      "outputs": [],
      "source": [
        "from numpy import linalg\n",
        "import sympy as sp\n",
        "from sympy import *\n",
        "from sympy import solve_linear_system , Integral , sqrt , init_printing  \n",
        "from sympy.matrices import Matrix , eye, zeros , ones , diag, GramSchmidt , DotProduct\n",
        "from sympy import Matrix, init_printing\n",
        "import pyfiglet \n",
        "from termcolor import colored, cprint\n",
        "import fractions, numpy as np\n",
        "init_printing()\n",
        "import random\n",
        "import time\n",
        "import matplotlib.pyplot as plt\n",
        "from datetime import datetime"
      ]
    },
    {
      "cell_type": "markdown",
      "source": [
        "This bloc allow user to enter a personalized matrix or to demand a default matrix .\n"
      ],
      "metadata": {
        "id": "-tIJthRqdqdY"
      }
    },
    {
      "cell_type": "code",
      "execution_count": 183,
      "metadata": {
        "id": "N8d5TrKbfJeb"
      },
      "outputs": [],
      "source": [
        "\n",
        "#User Matrix\n",
        "def customized_matrix():\n",
        "   n = int(input('\\nGive the order of matrix : '))  #Matrix Dimension\n",
        "   A=matrix(n)   # stores the elements into the matrix\n",
        "   print('\\nEnter the vector B : ')\n",
        "   B = []\n",
        "   for j in range(n):\n",
        "    element = int(input('Enter value : '))\n",
        "    B.append(element)\n",
        "   display('\\n B : \\n',Matrix(B))\n",
        "   return A,B \n",
        "\n",
        "   \n",
        "#Function creates Matrix\n",
        "def matrix(n):\n",
        "    print(\"Enter the entries in a single line (separated by space): \")   \n",
        "    # User input of entries in a \n",
        "    # single line separated by space\n",
        "    entries = list(map(float, input().split()))\n",
        "    # For printing the matrix\n",
        "   \n",
        "    matrix = np.array(entries).reshape(n, n)\n",
        "    display(Matrix(matrix))\n",
        "    return matrix\n",
        "\n",
        "#Default Matrix    \n",
        "def default_matrix():\n",
        "   A = np.random.rand(5,5)  #Default 5*5 Matrix with a random elements \n",
        "   display('A',Matrix(A))\n",
        "   B = np.random.rand(5, 1)   #Default 5*1 Vector with a random values\n",
        "   display('B',Matrix(B))\n",
        "   return A,B\n",
        "\n"
      ]
    },
    {
      "cell_type": "markdown",
      "metadata": {
        "id": "4_lZxG2ZmBJB"
      },
      "source": [
        "Interface Utilisateur "
      ]
    },
    {
      "cell_type": "code",
      "execution_count": 184,
      "metadata": {
        "id": "UmigCRYKW7Z1"
      },
      "outputs": [],
      "source": [
        "def main():\n",
        "        \n",
        "        print(\"\\nWould you want to test me with : \")\n",
        "        print(\"\"\"\n",
        "        1 : Customize Matrix \n",
        "        2 : Default Matrix\n",
        "        0 : Exit\"\"\"\n",
        "              )\n",
        "        choice = input(\"\\nEnter your choice : \")\n",
        "         \n",
        "        if choice == '1':\n",
        "             A,B=customized_matrix()\n",
        "             c=Conditionnement(A)\n",
        "             print(\"\\nMatrix condtionnement : \",c)\n",
        "             QualityConditionnement(c)\n",
        "             print(\"\\n\\n QR Decomposition using Schmidt Gram: \")\n",
        "             Q, R=gramschmidt(A)\n",
        "             display('Q',Matrix(Q))\n",
        "             display('R',Matrix(R))\n",
        "            \n",
        "             x=solveSystem(Q,R,B);\n",
        "             print(\"\\n\\n The solution  of AX=b : \\n \")\n",
        "             display('X',Matrix(x))\n",
        "            \n",
        "        elif choice == '2' :\n",
        "              A,B=default_matrix()\n",
        "              c=Conditionnement(A)\n",
        "              print(\"\\nMatrix condtionnement : \",c)\n",
        "              QualityConditionnement(c)\n",
        "              print(\"\\n\\n QR Decomposition using Schmidt Gram: \")\n",
        "              Q, R=gramschmidt(A)\n",
        "              display('Q',Matrix(Q))\n",
        "              display('R',Matrix(R))\n",
        "              x=solveSystem(Q,R,B);\n",
        "              print(\"\\n\\n The solution  of AX=b : \\n\")\n",
        "              display('X',Matrix(x))\n",
        "                   \n",
        "        elif choice == '0':\n",
        "            print(\"\\nThank You\")\n",
        "        else : \n",
        "             print(\"\\nInvalid choice Please rerun the program\") \n",
        "            \n",
        "               \n"
      ]
    },
    {
      "cell_type": "code",
      "execution_count": 185,
      "metadata": {
        "id": "Dnp2n6VdUexT"
      },
      "outputs": [],
      "source": [
        "def Header():\n",
        "   print (colored(pyfiglet.figlet_format('OMEGA-3 TEAM',font=\"standard\"),'red'))\n",
        "def footer():\n",
        "  print (colored(pyfiglet.figlet_format('Feriel zarrouki Doniez Touil wala Hammemi',font=\"digital\"),'green'))"
      ]
    },
    {
      "cell_type": "markdown",
      "metadata": {
        "id": "6eDlizBLmUoA"
      },
      "source": [
        "Test et conditionnement "
      ]
    },
    {
      "cell_type": "code",
      "execution_count": 186,
      "metadata": {
        "id": "3imnvL8J_v7E"
      },
      "outputs": [],
      "source": [
        "#check Q.Qt =Identity\n",
        "def check_QQT(Q):\n",
        "  print ('Q^T*Q = ')\n",
        "  print (np.dot(Q.transpose(), Q))\n",
        "\n",
        "#check Q*R=A   \n",
        "def check_QRDec(Q,R):  \n",
        "  print ('\\n Q*R = \\n',np.dot(Q,R))\n",
        "\n",
        "#Conditionnement Function  \n",
        "def Conditionnement(A):\n",
        "  norm_a=linalg.norm(A)  #calculate the norm of matrix A\n",
        "  norm_a_inverse=linalg.norm(linalg.inv(A))  #calculate the norm of the inverse matrix of A\n",
        "  return norm_a*norm_a_inverse; \n",
        "  \n",
        "def QualityConditionnement(cond) :\n",
        "  if limit(cond,cond,1) :\n",
        "    print(\"Matrix was  stable \")\n",
        "  else :\n",
        "    print(\"Matrix was not stable \")  \n"
      ]
    },
    {
      "cell_type": "markdown",
      "metadata": {
        "id": "LvE5emWUmkNq"
      },
      "source": [
        "La décomposition QR avec la méthode de Schmidt "
      ]
    },
    {
      "cell_type": "code",
      "execution_count": 187,
      "metadata": {
        "id": "S4-JNelVckNO"
      },
      "outputs": [],
      "source": [
        "#QR_Decomposition_Using_Gram_Schmidt_Algorithm\n",
        "def gramschmidt(A):\n",
        "    \"\"\"\n",
        "    Applies the Gram-Schmidt method to A\n",
        "    and returns Q and R, so Q*R = A.\n",
        "    \"\"\"\n",
        "    \"\"\"Orthogonalize a group of vectors stored  as coloumns in the matrix A\"\"\"\n",
        "    # Q and R Matrixes Intialization with zeros default values\n",
        "    R = np.zeros((A.shape[1], A.shape[1]))\n",
        "    Q = np.zeros(A.shape) \n",
        "    for k in range(0, A.shape[1]): \n",
        "        R[k, k] = np.sqrt(np.dot(A[:, k], A[:, k]))\n",
        "        # The orthogonalized result is found and stored in the ith column of Q.\n",
        "        Q[:, k] = A[:, k]/R[k, k]\n",
        "        for j in range(k+1, A.shape[1]): \n",
        "          # To orthogonalize the vector in column k with respect to the\n",
        "          # previous vectors, subtract from it its projection onto\n",
        "          # each of the previous vectors.\n",
        "            R[k, j] = np.dot(Q[:, k], A[:, j])\n",
        "            A[:, j] = A[:, j] - R[k, j]*Q[:, k]\n",
        "    return Q,R"
      ]
    },
    {
      "cell_type": "markdown",
      "metadata": {
        "id": "w1008tB9AGTv"
      },
      "source": [
        "Solve Ax=B"
      ]
    },
    {
      "cell_type": "code",
      "execution_count": 188,
      "metadata": {
        "id": "3VyezrVhAKIr"
      },
      "outputs": [],
      "source": [
        "def solveSystem(Q,R,B):\n",
        "   y = np.dot(Q.T,B) # Let y=Q'.B using matrix multiplication \n",
        "   x = linalg.solve(R, y) # Solve Rx=y\n",
        "   return x"
      ]
    },
    {
      "cell_type": "markdown",
      "source": [
        "Time QR Factorization complexity "
      ],
      "metadata": {
        "id": "OhV7b7aT3_TY"
      }
    },
    {
      "cell_type": "code",
      "source": [
        "#Complexity\n",
        "def complexity():\n",
        "  print('\\nThe program complexity :')\n",
        "  print(\"\\nThe algorithm is expensive.Each iteration step requires the computation of the QR factorization of a full n × n matrix, each single iteration step has a complexity O(n^3). \\nEven if we assume that the number of steps is proportional to n we would get an O(n^4) complexity.\")\n",
        "  # Plot results\n",
        "  print('\\nThe plot underneath represents the graphic evolution of time complexity \\n')\n",
        "  ns = range(1, 100)\n",
        "  ts = [(n*n*n) for n in ns]\n",
        "  plt.plot(ns, ts, 'ob')"
      ],
      "metadata": {
        "id": "kBpM7frg4FGX"
      },
      "execution_count": 189,
      "outputs": []
    },
    {
      "cell_type": "code",
      "execution_count": 190,
      "metadata": {
        "id": "x_pY0SD54cTC",
        "colab": {
          "base_uri": "https://localhost:8080/",
          "height": 1000
        },
        "outputId": "88b664b0-2733-4a11-b425-ee5d9fc97b31"
      },
      "outputs": [
        {
          "name": "stdout",
          "output_type": "stream",
          "text": [
            "\u001b[31m  ___  __  __ _____ ____    _        _____   _____ _____    _    __  __ \n",
            " / _ \\|  \\/  | ____/ ___|  / \\      |___ /  |_   _| ____|  / \\  |  \\/  |\n",
            "| | | | |\\/| |  _|| |  _  / _ \\ _____ |_ \\    | | |  _|   / _ \\ | |\\/| |\n",
            "| |_| | |  | | |__| |_| |/ ___ \\_____|__) |   | | | |___ / ___ \\| |  | |\n",
            " \\___/|_|  |_|_____\\____/_/   \\_\\   |____/    |_| |_____/_/   \\_\\_|  |_|\n",
            "                                                                        \n",
            "\u001b[0m\n",
            "\u001b[32m+-+-+-+-+-+-+ +-+-+-+-+-+-+-+-+ +-+-+-+-+-+-+ +-+-+-+-+-+ +-+-+-+-+\n",
            "|F|e|r|i|e|l| |z|a|r|r|o|u|k|i| |D|o|n|i|e|z| |T|o|u|i|l| |w|a|l|a|\n",
            "+-+-+-+-+-+-+ +-+-+-+-+-+-+-+-+ +-+-+-+-+-+-+ +-+-+-+-+-+ +-+-+-+-+\n",
            "+-+-+-+-+-+-+-+\n",
            "|H|a|m|m|e|m|i|\n",
            "+-+-+-+-+-+-+-+\n",
            "\u001b[0m\n",
            "\n",
            "Would you want to test me with : \n",
            "\n",
            "        1 : Customize Matrix \n",
            "        2 : Default Matrix\n",
            "        0 : Exit\n",
            "\n",
            "Enter your choice : 1\n",
            "\n",
            "Give the order of matrix : 3\n",
            "Enter the entries in a single line (separated by space): \n",
            "1 1 0 1 0 1 0 1 1\n"
          ]
        },
        {
          "output_type": "display_data",
          "data": {
            "text/plain": [
              "⎡1.0  1.0  0.0⎤\n",
              "⎢             ⎥\n",
              "⎢1.0  0.0  1.0⎥\n",
              "⎢             ⎥\n",
              "⎣0.0  1.0  1.0⎦"
            ],
            "text/latex": "$\\displaystyle \\left[\\begin{matrix}1.0 & 1.0 & 0.0\\\\1.0 & 0.0 & 1.0\\\\0.0 & 1.0 & 1.0\\end{matrix}\\right]$"
          },
          "metadata": {}
        },
        {
          "name": "stdout",
          "output_type": "stream",
          "text": [
            "\n",
            "Enter the vector B : \n",
            "Enter value : 2\n",
            "Enter value : 3\n",
            "Enter value : 4\n"
          ]
        },
        {
          "output_type": "display_data",
          "data": {
            "text/plain": [
              "'\\n B : \\n'"
            ],
            "application/vnd.google.colaboratory.intrinsic+json": {
              "type": "string"
            }
          },
          "metadata": {}
        },
        {
          "output_type": "display_data",
          "data": {
            "text/plain": [
              "⎡2⎤\n",
              "⎢ ⎥\n",
              "⎢3⎥\n",
              "⎢ ⎥\n",
              "⎣4⎦"
            ],
            "text/latex": "$\\displaystyle \\left[\\begin{matrix}2\\\\3\\\\4\\end{matrix}\\right]$"
          },
          "metadata": {}
        },
        {
          "output_type": "stream",
          "name": "stdout",
          "text": [
            "\n",
            "Matrix condtionnement :  3.674234614174767\n",
            "Matrix was  stable \n",
            "\n",
            "\n",
            " QR Decomposition using Schmidt Gram: \n"
          ]
        },
        {
          "output_type": "display_data",
          "data": {
            "text/plain": [
              "'Q'"
            ],
            "application/vnd.google.colaboratory.intrinsic+json": {
              "type": "string"
            }
          },
          "metadata": {}
        },
        {
          "output_type": "display_data",
          "data": {
            "text/plain": [
              "⎡0.707106781186547  0.408248290463863   -0.577350269189626⎤\n",
              "⎢                                                         ⎥\n",
              "⎢0.707106781186547  -0.408248290463863  0.577350269189626 ⎥\n",
              "⎢                                                         ⎥\n",
              "⎣       0.0         0.816496580927726   0.577350269189626 ⎦"
            ],
            "text/latex": "$\\displaystyle \\left[\\begin{matrix}0.707106781186547 & 0.408248290463863 & -0.577350269189626\\\\0.707106781186547 & -0.408248290463863 & 0.577350269189626\\\\0.0 & 0.816496580927726 & 0.577350269189626\\end{matrix}\\right]$"
          },
          "metadata": {}
        },
        {
          "output_type": "display_data",
          "data": {
            "text/plain": [
              "'R'"
            ],
            "application/vnd.google.colaboratory.intrinsic+json": {
              "type": "string"
            }
          },
          "metadata": {}
        },
        {
          "output_type": "display_data",
          "data": {
            "text/plain": [
              "⎡1.4142135623731  0.707106781186547  0.707106781186547⎤\n",
              "⎢                                                     ⎥\n",
              "⎢      0.0        1.22474487139159   0.408248290463863⎥\n",
              "⎢                                                     ⎥\n",
              "⎣      0.0               0.0         1.15470053837925 ⎦"
            ],
            "text/latex": "$\\displaystyle \\left[\\begin{matrix}1.4142135623731 & 0.707106781186547 & 0.707106781186547\\\\0.0 & 1.22474487139159 & 0.408248290463863\\\\0.0 & 0.0 & 1.15470053837925\\end{matrix}\\right]$"
          },
          "metadata": {}
        },
        {
          "output_type": "stream",
          "name": "stdout",
          "text": [
            "\n",
            "\n",
            " The solution  of AX=b : \n",
            " \n"
          ]
        },
        {
          "output_type": "display_data",
          "data": {
            "text/plain": [
              "'X'"
            ],
            "application/vnd.google.colaboratory.intrinsic+json": {
              "type": "string"
            }
          },
          "metadata": {}
        },
        {
          "output_type": "display_data",
          "data": {
            "text/plain": [
              "⎡0.5⎤\n",
              "⎢   ⎥\n",
              "⎢1.5⎥\n",
              "⎢   ⎥\n",
              "⎣2.5⎦"
            ],
            "text/latex": "$\\displaystyle \\left[\\begin{matrix}0.5\\\\1.5\\\\2.5\\end{matrix}\\right]$"
          },
          "metadata": {}
        },
        {
          "output_type": "stream",
          "name": "stdout",
          "text": [
            "\n",
            "The program complexity :\n",
            "\n",
            "The algorithm is expensive.Each iteration step requires the computation of the QR factorization of a full n × n matrix, each single iteration step has a complexity O(n^3). \n",
            "Even if we assume that the number of steps is proportional to n we would get an O(n^4) complexity.\n",
            "\n",
            "The plot underneath represents the graphic evolution of time complexity \n",
            "\n",
            "\n",
            "Time Execution :  0:00:47.191114\n"
          ]
        },
        {
          "output_type": "display_data",
          "data": {
            "text/plain": [
              "<Figure size 432x288 with 1 Axes>"
            ],
            "image/png": "[encoded data removed]"
          },
          "metadata": {
            "needs_background": "light"
          }
        }
      ],
      "source": [
        "\n",
        "startTime = datetime.now()\n",
        "Header()\n",
        "footer()\n",
        "main()\n",
        "complexity()\n",
        "print(\"\\nTime Execution : \", datetime.now() - startTime)\n",
        "\n",
        "\n",
        "\n"
      ]
    }
  ],
  "metadata": {
    "colab": {
      "collapsed_sections": [],
      "name": "FinalVersionProject.ipynb",
      "provenance": []
    },
    "kernelspec": {
      "display_name": "Python 3",
      "name": "python3"
    },
    "language_info": {
      "name": "python"
    }
  },
  "nbformat": 4,
  "nbformat_minor": 0
}